{
 "cells": [
  {
   "cell_type": "markdown",
   "id": "736ab6bf-b775-4654-9064-50886aec7b3f",
   "metadata": {},
   "source": [
    "# 1. Importing the libraries"
   ]
  },
  {
   "cell_type": "code",
   "execution_count": 1,
   "id": "98cebdfc-d8b9-4b3d-878a-e100589cfa7b",
   "metadata": {},
   "outputs": [],
   "source": [
    "import pandas as pd\n",
    "import numpy as np\n",
    "import matplotlib.pyplot as plt\n",
    "import seaborn as sns\n",
    "import plotly.express as px\n",
    "import plotly.io as pio\n",
    "pio.renderers.default = \"svg\""
   ]
  },
  {
   "cell_type": "markdown",
   "id": "7cfd6625-4625-494c-bed7-98258896c28a",
   "metadata": {},
   "source": [
    "# 2. Importing the dataset"
   ]
  },
  {
   "cell_type": "code",
   "execution_count": 2,
   "id": "7138258b-e863-47a0-b9b1-3697dfd08b49",
   "metadata": {},
   "outputs": [],
   "source": [
    "raw_df = pd.read_csv('ChennaiZomato.csv',delimiter='|')"
   ]
  },
  {
   "cell_type": "code",
   "execution_count": 3,
   "id": "5d6624a3-24d9-49da-83e0-3c73fc6e235d",
   "metadata": {},
   "outputs": [
    {
     "data": {
      "text/html": [
       "<div>\n",
       "<style scoped>\n",
       "    .dataframe tbody tr th:only-of-type {\n",
       "        vertical-align: middle;\n",
       "    }\n",
       "\n",
       "    .dataframe tbody tr th {\n",
       "        vertical-align: top;\n",
       "    }\n",
       "\n",
       "    .dataframe thead th {\n",
       "        text-align: right;\n",
       "    }\n",
       "</style>\n",
       "<table border=\"1\" class=\"dataframe\">\n",
       "  <thead>\n",
       "    <tr style=\"text-align: right;\">\n",
       "      <th></th>\n",
       "      <th>Name of Restaurant,Location,Cuisine,Top Dishes,Price for 2,Dining Rating,Dining Rating Count,Delivery Rating,Delivery Rating Count,Features</th>\n",
       "    </tr>\n",
       "  </thead>\n",
       "  <tbody>\n",
       "    <tr>\n",
       "      <th>0</th>\n",
       "      <td>Yaa Mohaideen Briyani,Pallavaram,['Biryani'],\"...</td>\n",
       "    </tr>\n",
       "    <tr>\n",
       "      <th>1</th>\n",
       "      <td>Sukkubhai Biriyani,Alandur,['Biryani',\"['Beef ...</td>\n",
       "    </tr>\n",
       "    <tr>\n",
       "      <th>2</th>\n",
       "      <td>Sukkubhai Biriyani,Alandur, ' North Indian',\"[...</td>\n",
       "    </tr>\n",
       "    <tr>\n",
       "      <th>3</th>\n",
       "      <td>Sukkubhai Biriyani,Alandur, ' Mughlai',\"['Beef...</td>\n",
       "    </tr>\n",
       "    <tr>\n",
       "      <th>4</th>\n",
       "      <td>Sukkubhai Biriyani,Alandur, ' Desserts',\"['Bee...</td>\n",
       "    </tr>\n",
       "    <tr>\n",
       "      <th>...</th>\n",
       "      <td>...</td>\n",
       "    </tr>\n",
       "    <tr>\n",
       "      <th>12306</th>\n",
       "      <td>Engineers Kitchen,Ambattur,['North Indian',Inv...</td>\n",
       "    </tr>\n",
       "    <tr>\n",
       "      <th>12307</th>\n",
       "      <td>Engineers Kitchen,Ambattur, ' Chinese',Invalid...</td>\n",
       "    </tr>\n",
       "    <tr>\n",
       "      <th>12308</th>\n",
       "      <td>Engineers Kitchen,Ambattur, ' Andhra'],Invalid...</td>\n",
       "    </tr>\n",
       "    <tr>\n",
       "      <th>12309</th>\n",
       "      <td>That Juice Shop,Karapakkam,['Juices',Invalid,2...</td>\n",
       "    </tr>\n",
       "    <tr>\n",
       "      <th>12310</th>\n",
       "      <td>That Juice Shop,Karapakkam, ' Beverages'],Inva...</td>\n",
       "    </tr>\n",
       "  </tbody>\n",
       "</table>\n",
       "<p>12311 rows × 1 columns</p>\n",
       "</div>"
      ],
      "text/plain": [
       "      Name of Restaurant,Location,Cuisine,Top Dishes,Price for 2,Dining Rating,Dining Rating Count,Delivery Rating,Delivery Rating Count,Features\n",
       "0      Yaa Mohaideen Briyani,Pallavaram,['Biryani'],\"...                                                                                         \n",
       "1      Sukkubhai Biriyani,Alandur,['Biryani',\"['Beef ...                                                                                         \n",
       "2      Sukkubhai Biriyani,Alandur, ' North Indian',\"[...                                                                                         \n",
       "3      Sukkubhai Biriyani,Alandur, ' Mughlai',\"['Beef...                                                                                         \n",
       "4      Sukkubhai Biriyani,Alandur, ' Desserts',\"['Bee...                                                                                         \n",
       "...                                                  ...                                                                                         \n",
       "12306  Engineers Kitchen,Ambattur,['North Indian',Inv...                                                                                         \n",
       "12307  Engineers Kitchen,Ambattur, ' Chinese',Invalid...                                                                                         \n",
       "12308  Engineers Kitchen,Ambattur, ' Andhra'],Invalid...                                                                                         \n",
       "12309  That Juice Shop,Karapakkam,['Juices',Invalid,2...                                                                                         \n",
       "12310  That Juice Shop,Karapakkam, ' Beverages'],Inva...                                                                                         \n",
       "\n",
       "[12311 rows x 1 columns]"
      ]
     },
     "execution_count": 3,
     "metadata": {},
     "output_type": "execute_result"
    }
   ],
   "source": [
    "raw_df"
   ]
  },
  {
   "cell_type": "code",
   "execution_count": 4,
   "id": "eb1ea0e7-0380-475d-b619-a2bd5f79613c",
   "metadata": {},
   "outputs": [
    {
     "data": {
      "text/html": [
       "<div>\n",
       "<style scoped>\n",
       "    .dataframe tbody tr th:only-of-type {\n",
       "        vertical-align: middle;\n",
       "    }\n",
       "\n",
       "    .dataframe tbody tr th {\n",
       "        vertical-align: top;\n",
       "    }\n",
       "\n",
       "    .dataframe thead th {\n",
       "        text-align: right;\n",
       "    }\n",
       "</style>\n",
       "<table border=\"1\" class=\"dataframe\">\n",
       "  <thead>\n",
       "    <tr style=\"text-align: right;\">\n",
       "      <th></th>\n",
       "      <th>Name of Restaurant,Location,Cuisine,Top Dishes,Price for 2,Dining Rating,Dining Rating Count,Delivery Rating,Delivery Rating Count,Features</th>\n",
       "    </tr>\n",
       "  </thead>\n",
       "  <tbody>\n",
       "    <tr>\n",
       "      <th>0</th>\n",
       "      <td>Yaa Mohaideen Briyani,Pallavaram,['Biryani'],\"...</td>\n",
       "    </tr>\n",
       "    <tr>\n",
       "      <th>1</th>\n",
       "      <td>Sukkubhai Biriyani,Alandur,['Biryani',\"['Beef ...</td>\n",
       "    </tr>\n",
       "    <tr>\n",
       "      <th>2</th>\n",
       "      <td>Sukkubhai Biriyani,Alandur, ' North Indian',\"[...</td>\n",
       "    </tr>\n",
       "    <tr>\n",
       "      <th>3</th>\n",
       "      <td>Sukkubhai Biriyani,Alandur, ' Mughlai',\"['Beef...</td>\n",
       "    </tr>\n",
       "    <tr>\n",
       "      <th>4</th>\n",
       "      <td>Sukkubhai Biriyani,Alandur, ' Desserts',\"['Bee...</td>\n",
       "    </tr>\n",
       "  </tbody>\n",
       "</table>\n",
       "</div>"
      ],
      "text/plain": [
       "  Name of Restaurant,Location,Cuisine,Top Dishes,Price for 2,Dining Rating,Dining Rating Count,Delivery Rating,Delivery Rating Count,Features\n",
       "0  Yaa Mohaideen Briyani,Pallavaram,['Biryani'],\"...                                                                                         \n",
       "1  Sukkubhai Biriyani,Alandur,['Biryani',\"['Beef ...                                                                                         \n",
       "2  Sukkubhai Biriyani,Alandur, ' North Indian',\"[...                                                                                         \n",
       "3  Sukkubhai Biriyani,Alandur, ' Mughlai',\"['Beef...                                                                                         \n",
       "4  Sukkubhai Biriyani,Alandur, ' Desserts',\"['Bee...                                                                                         "
      ]
     },
     "execution_count": 4,
     "metadata": {},
     "output_type": "execute_result"
    }
   ],
   "source": [
    "raw_df.head()"
   ]
  },
  {
   "cell_type": "code",
   "execution_count": 5,
   "id": "c8fd4712-fea9-4346-9971-44f33e486f32",
   "metadata": {},
   "outputs": [
    {
     "name": "stdout",
     "output_type": "stream",
     "text": [
      "Index(['Name of Restaurant,Location,Cuisine,Top Dishes,Price for 2,Dining Rating,Dining Rating Count,Delivery Rating,Delivery Rating Count,Features'], dtype='object')\n"
     ]
    }
   ],
   "source": [
    "print(raw_df.columns)"
   ]
  },
  {
   "cell_type": "markdown",
   "id": "d490223e-92f5-4468-a1a4-071f4ccd6ced",
   "metadata": {},
   "source": [
    "# 3. Getting Basic Information about the Dataset"
   ]
  },
  {
   "cell_type": "code",
   "execution_count": 6,
   "id": "b5a9ae78-4d02-45c6-b2c5-d5fd91033f4e",
   "metadata": {},
   "outputs": [
    {
     "data": {
      "text/plain": [
       "(12311, 1)"
      ]
     },
     "execution_count": 6,
     "metadata": {},
     "output_type": "execute_result"
    }
   ],
   "source": [
    "raw_df.shape"
   ]
  },
  {
   "cell_type": "code",
   "execution_count": 7,
   "id": "89009e3d-b36e-44c1-89d7-c1c3b5394e2e",
   "metadata": {},
   "outputs": [
    {
     "name": "stdout",
     "output_type": "stream",
     "text": [
      "<class 'pandas.core.frame.DataFrame'>\n",
      "RangeIndex: 12311 entries, 0 to 12310\n",
      "Data columns (total 1 columns):\n",
      " #   Column                                                                                                                                       Non-Null Count  Dtype \n",
      "---  ------                                                                                                                                       --------------  ----- \n",
      " 0   Name of Restaurant,Location,Cuisine,Top Dishes,Price for 2,Dining Rating,Dining Rating Count,Delivery Rating,Delivery Rating Count,Features  12311 non-null  object\n",
      "dtypes: object(1)\n",
      "memory usage: 96.3+ KB\n"
     ]
    }
   ],
   "source": [
    "raw_df.info()"
   ]
  },
  {
   "cell_type": "code",
   "execution_count": 8,
   "id": "83c634e2-5864-4f16-b4ec-b94c6e3904f7",
   "metadata": {},
   "outputs": [
    {
     "data": {
      "text/html": [
       "<div>\n",
       "<style scoped>\n",
       "    .dataframe tbody tr th:only-of-type {\n",
       "        vertical-align: middle;\n",
       "    }\n",
       "\n",
       "    .dataframe tbody tr th {\n",
       "        vertical-align: top;\n",
       "    }\n",
       "\n",
       "    .dataframe thead th {\n",
       "        text-align: right;\n",
       "    }\n",
       "</style>\n",
       "<table border=\"1\" class=\"dataframe\">\n",
       "  <thead>\n",
       "    <tr style=\"text-align: right;\">\n",
       "      <th></th>\n",
       "      <th>Name of Restaurant,Location,Cuisine,Top Dishes,Price for 2,Dining Rating,Dining Rating Count,Delivery Rating,Delivery Rating Count,Features</th>\n",
       "    </tr>\n",
       "  </thead>\n",
       "  <tbody>\n",
       "    <tr>\n",
       "      <th>count</th>\n",
       "      <td>12311</td>\n",
       "    </tr>\n",
       "    <tr>\n",
       "      <th>unique</th>\n",
       "      <td>12311</td>\n",
       "    </tr>\n",
       "    <tr>\n",
       "      <th>top</th>\n",
       "      <td>That Juice Shop,Karapakkam, ' Beverages'],Inva...</td>\n",
       "    </tr>\n",
       "    <tr>\n",
       "      <th>freq</th>\n",
       "      <td>1</td>\n",
       "    </tr>\n",
       "  </tbody>\n",
       "</table>\n",
       "</div>"
      ],
      "text/plain": [
       "       Name of Restaurant,Location,Cuisine,Top Dishes,Price for 2,Dining Rating,Dining Rating Count,Delivery Rating,Delivery Rating Count,Features\n",
       "count                                               12311                                                                                         \n",
       "unique                                              12311                                                                                         \n",
       "top     That Juice Shop,Karapakkam, ' Beverages'],Inva...                                                                                         \n",
       "freq                                                    1                                                                                         "
      ]
     },
     "execution_count": 8,
     "metadata": {},
     "output_type": "execute_result"
    }
   ],
   "source": [
    "raw_df.describe()"
   ]
  },
  {
   "cell_type": "code",
   "execution_count": 9,
   "id": "9ca97718-b5a8-45be-a49f-96cd2e7eb31b",
   "metadata": {},
   "outputs": [
    {
     "data": {
      "text/plain": [
       "Name of Restaurant,Location,Cuisine,Top Dishes,Price for 2,Dining Rating,Dining Rating Count,Delivery Rating,Delivery Rating Count,Features    0\n",
       "dtype: int64"
      ]
     },
     "execution_count": 9,
     "metadata": {},
     "output_type": "execute_result"
    }
   ],
   "source": [
    "raw_df.isnull().sum()"
   ]
  },
  {
   "cell_type": "markdown",
   "id": "80ff32e1-302f-4c0a-b5de-117f184d85cf",
   "metadata": {},
   "source": [
    "# 4. cleaning the dataset"
   ]
  },
  {
   "cell_type": "code",
   "execution_count": 10,
   "id": "db08fbac-117e-47c6-a338-05149d6c7187",
   "metadata": {},
   "outputs": [
    {
     "name": "stdout",
     "output_type": "stream",
     "text": [
      "Cuisine column not found\n"
     ]
    },
    {
     "ename": "KeyError",
     "evalue": "'Cuisine'",
     "output_type": "error",
     "traceback": [
      "\u001b[1;31m---------------------------------------------------------------------------\u001b[0m",
      "\u001b[1;31mKeyError\u001b[0m                                  Traceback (most recent call last)",
      "File \u001b[1;32m~\\anaconda3\\envs\\machinelearning\\lib\\site-packages\\pandas\\core\\indexes\\base.py:3805\u001b[0m, in \u001b[0;36mIndex.get_loc\u001b[1;34m(self, key)\u001b[0m\n\u001b[0;32m   3804\u001b[0m \u001b[38;5;28;01mtry\u001b[39;00m:\n\u001b[1;32m-> 3805\u001b[0m     \u001b[38;5;28;01mreturn\u001b[39;00m \u001b[38;5;28;43mself\u001b[39;49m\u001b[38;5;241;43m.\u001b[39;49m\u001b[43m_engine\u001b[49m\u001b[38;5;241;43m.\u001b[39;49m\u001b[43mget_loc\u001b[49m\u001b[43m(\u001b[49m\u001b[43mcasted_key\u001b[49m\u001b[43m)\u001b[49m\n\u001b[0;32m   3806\u001b[0m \u001b[38;5;28;01mexcept\u001b[39;00m \u001b[38;5;167;01mKeyError\u001b[39;00m \u001b[38;5;28;01mas\u001b[39;00m err:\n",
      "File \u001b[1;32mindex.pyx:167\u001b[0m, in \u001b[0;36mpandas._libs.index.IndexEngine.get_loc\u001b[1;34m()\u001b[0m\n",
      "File \u001b[1;32mindex.pyx:196\u001b[0m, in \u001b[0;36mpandas._libs.index.IndexEngine.get_loc\u001b[1;34m()\u001b[0m\n",
      "File \u001b[1;32mpandas\\\\_libs\\\\hashtable_class_helper.pxi:7081\u001b[0m, in \u001b[0;36mpandas._libs.hashtable.PyObjectHashTable.get_item\u001b[1;34m()\u001b[0m\n",
      "File \u001b[1;32mpandas\\\\_libs\\\\hashtable_class_helper.pxi:7089\u001b[0m, in \u001b[0;36mpandas._libs.hashtable.PyObjectHashTable.get_item\u001b[1;34m()\u001b[0m\n",
      "\u001b[1;31mKeyError\u001b[0m: 'Cuisine'",
      "\nThe above exception was the direct cause of the following exception:\n",
      "\u001b[1;31mKeyError\u001b[0m                                  Traceback (most recent call last)",
      "Cell \u001b[1;32mIn[10], line 12\u001b[0m\n\u001b[0;32m     10\u001b[0m       \u001b[38;5;28mprint\u001b[39m(\u001b[38;5;124m\"\u001b[39m\u001b[38;5;124mCuisine column not found\u001b[39m\u001b[38;5;124m\"\u001b[39m)\n\u001b[0;32m     11\u001b[0m \u001b[38;5;66;03m# Handle the Cuisine column:\u001b[39;00m\n\u001b[1;32m---> 12\u001b[0m raw_df[\u001b[38;5;124m'\u001b[39m\u001b[38;5;124mCuisine\u001b[39m\u001b[38;5;124m'\u001b[39m] \u001b[38;5;241m=\u001b[39m \u001b[43mraw_df\u001b[49m\u001b[43m[\u001b[49m\u001b[38;5;124;43m'\u001b[39;49m\u001b[38;5;124;43mCuisine\u001b[39;49m\u001b[38;5;124;43m'\u001b[39;49m\u001b[43m]\u001b[49m\u001b[38;5;241m.\u001b[39mapply(\u001b[38;5;28;01mlambda\u001b[39;00m x: x\u001b[38;5;241m.\u001b[39mstrip(\u001b[38;5;124m\"\u001b[39m\u001b[38;5;124m[]\u001b[39m\u001b[38;5;124m\"\u001b[39m)\u001b[38;5;241m.\u001b[39mreplace(\u001b[38;5;124m\"\u001b[39m\u001b[38;5;124m'\u001b[39m\u001b[38;5;124m\"\u001b[39m, \u001b[38;5;124m\"\u001b[39m\u001b[38;5;124m\"\u001b[39m)\u001b[38;5;241m.\u001b[39msplit(\u001b[38;5;124m'\u001b[39m\u001b[38;5;124m,\u001b[39m\u001b[38;5;124m'\u001b[39m) \u001b[38;5;28;01mif\u001b[39;00m \u001b[38;5;28misinstance\u001b[39m(x, \u001b[38;5;28mstr\u001b[39m) \u001b[38;5;28;01melse\u001b[39;00m x)\n\u001b[0;32m     13\u001b[0m \u001b[38;5;66;03m# Now let's handle the case where multiple cuisines are listed per restaurant\u001b[39;00m\n\u001b[0;32m     14\u001b[0m exploded_df \u001b[38;5;241m=\u001b[39m raw_df\u001b[38;5;241m.\u001b[39mexplode(\u001b[38;5;124m'\u001b[39m\u001b[38;5;124mCuisine\u001b[39m\u001b[38;5;124m'\u001b[39m)\n",
      "File \u001b[1;32m~\\anaconda3\\envs\\machinelearning\\lib\\site-packages\\pandas\\core\\frame.py:4102\u001b[0m, in \u001b[0;36mDataFrame.__getitem__\u001b[1;34m(self, key)\u001b[0m\n\u001b[0;32m   4100\u001b[0m \u001b[38;5;28;01mif\u001b[39;00m \u001b[38;5;28mself\u001b[39m\u001b[38;5;241m.\u001b[39mcolumns\u001b[38;5;241m.\u001b[39mnlevels \u001b[38;5;241m>\u001b[39m \u001b[38;5;241m1\u001b[39m:\n\u001b[0;32m   4101\u001b[0m     \u001b[38;5;28;01mreturn\u001b[39;00m \u001b[38;5;28mself\u001b[39m\u001b[38;5;241m.\u001b[39m_getitem_multilevel(key)\n\u001b[1;32m-> 4102\u001b[0m indexer \u001b[38;5;241m=\u001b[39m \u001b[38;5;28;43mself\u001b[39;49m\u001b[38;5;241;43m.\u001b[39;49m\u001b[43mcolumns\u001b[49m\u001b[38;5;241;43m.\u001b[39;49m\u001b[43mget_loc\u001b[49m\u001b[43m(\u001b[49m\u001b[43mkey\u001b[49m\u001b[43m)\u001b[49m\n\u001b[0;32m   4103\u001b[0m \u001b[38;5;28;01mif\u001b[39;00m is_integer(indexer):\n\u001b[0;32m   4104\u001b[0m     indexer \u001b[38;5;241m=\u001b[39m [indexer]\n",
      "File \u001b[1;32m~\\anaconda3\\envs\\machinelearning\\lib\\site-packages\\pandas\\core\\indexes\\base.py:3812\u001b[0m, in \u001b[0;36mIndex.get_loc\u001b[1;34m(self, key)\u001b[0m\n\u001b[0;32m   3807\u001b[0m     \u001b[38;5;28;01mif\u001b[39;00m \u001b[38;5;28misinstance\u001b[39m(casted_key, \u001b[38;5;28mslice\u001b[39m) \u001b[38;5;129;01mor\u001b[39;00m (\n\u001b[0;32m   3808\u001b[0m         \u001b[38;5;28misinstance\u001b[39m(casted_key, abc\u001b[38;5;241m.\u001b[39mIterable)\n\u001b[0;32m   3809\u001b[0m         \u001b[38;5;129;01mand\u001b[39;00m \u001b[38;5;28many\u001b[39m(\u001b[38;5;28misinstance\u001b[39m(x, \u001b[38;5;28mslice\u001b[39m) \u001b[38;5;28;01mfor\u001b[39;00m x \u001b[38;5;129;01min\u001b[39;00m casted_key)\n\u001b[0;32m   3810\u001b[0m     ):\n\u001b[0;32m   3811\u001b[0m         \u001b[38;5;28;01mraise\u001b[39;00m InvalidIndexError(key)\n\u001b[1;32m-> 3812\u001b[0m     \u001b[38;5;28;01mraise\u001b[39;00m \u001b[38;5;167;01mKeyError\u001b[39;00m(key) \u001b[38;5;28;01mfrom\u001b[39;00m \u001b[38;5;21;01merr\u001b[39;00m\n\u001b[0;32m   3813\u001b[0m \u001b[38;5;28;01mexcept\u001b[39;00m \u001b[38;5;167;01mTypeError\u001b[39;00m:\n\u001b[0;32m   3814\u001b[0m     \u001b[38;5;66;03m# If we have a listlike key, _check_indexing_error will raise\u001b[39;00m\n\u001b[0;32m   3815\u001b[0m     \u001b[38;5;66;03m#  InvalidIndexError. Otherwise we fall through and re-raise\u001b[39;00m\n\u001b[0;32m   3816\u001b[0m     \u001b[38;5;66;03m#  the TypeError.\u001b[39;00m\n\u001b[0;32m   3817\u001b[0m     \u001b[38;5;28mself\u001b[39m\u001b[38;5;241m.\u001b[39m_check_indexing_error(key)\n",
      "\u001b[1;31mKeyError\u001b[0m: 'Cuisine'"
     ]
    }
   ],
   "source": [
    " # It seems the 'Cuisine' column contains lists (e.g., ['Biryani', 'North Indian']) or strings. We'll need to handle it properly.\n",
    "# Ensure 'Cuisine' is a string and handle the string to list conversion\n",
    "# If there are extra spaces around column names, strip them\n",
    "raw_df.columns = raw_df.columns.str.strip()\n",
    "# 3. Check for the presence of the Cuisine column.\n",
    "# Once spaces are stripped, check again if the Cuisine column is present.\n",
    " if 'Cuisine' in raw_df.columns:\n",
    "       print(\"Cuisine column exists\")\n",
    "else:\n",
    "       print(\"Cuisine column not found\")\n",
    "# Handle the Cuisine column:\n",
    "raw_df['Cuisine'] = raw_df['Cuisine'].apply(lambda x: x.strip(\"[]\").replace(\"'\", \"\").split(',') if isinstance(x, str) else x)\n",
    "# Now let's handle the case where multiple cuisines are listed per restaurant\n",
    "exploded_df = raw_df.explode('Cuisine')\n",
    "# Ensure no 'Invalid' values remain\n",
    "exploded_df.replace('Invalid', pd.NA, inplace=True)\n",
    "# Finally, check the DataFrame\n",
    "print(exploded_df.head())\n",
    "\n",
    "                   \n",
    "\n"
   ]
  },
  {
   "cell_type": "code",
   "execution_count": null,
   "id": "cb17efbe-dd49-4823-9de3-91115f72ca7c",
   "metadata": {},
   "outputs": [],
   "source": [
    "# Convert numeric columns to appropriate types\n",
    "raw_df['Price for 2'] = pd.to_numeric(raw_df['Price for 2'], errors='coerce')\n",
    "raw_df['Dining Rating'] = pd.to_numeric(raw_df['Dining Rating'], errors='coerce')\n",
    "raw_df['Delivery Rating'] = pd.to_numeric(raw_df['Delivery Rating'], errors='coerce')\n"
   ]
  },
  {
   "cell_type": "code",
   "execution_count": null,
   "id": "e5082fe0-0218-4aab-90b1-98378b1a327c",
   "metadata": {},
   "outputs": [],
   "source": [
    "raw_df.info()"
   ]
  },
  {
   "cell_type": "code",
   "execution_count": null,
   "id": "c57b34ff-cb26-42ee-b41f-27da07a3517a",
   "metadata": {},
   "outputs": [],
   "source": [
    "# Handle missing values in numeric columns\n",
    "raw_df.fillna({'Price for 2': raw_df['Price for 2'].mean(),\n",
    "                   'Dining Rating': raw_df['Dining Rating'].mean(),\n",
    "                   'Delivery Rating': raw_df['Delivery Rating'].mean()}, inplace=True)"
   ]
  },
  {
   "cell_type": "code",
   "execution_count": null,
   "id": "695836c9-7ff3-435f-ad0c-5cafe254e53c",
   "metadata": {},
   "outputs": [],
   "source": [
    "# Remove duplicate rows\n",
    "raw_df.drop_duplicates(inplace=True)"
   ]
  },
  {
   "cell_type": "code",
   "execution_count": null,
   "id": "3f71403d-c1f2-42cb-af98-01bc6355adc5",
   "metadata": {},
   "outputs": [],
   "source": [
    "# Convert categorical columns to numeric codes if needed\n",
    "raw_df['Location'] = raw_df['Location'].astype('category').cat.codes\n",
    "raw_df['Top Dishes'] = raw_df['Top Dishes'].astype('category').cat.codes\n",
    "raw_df['Features'] = raw_df['Features'].astype('category').cat.codes\n"
   ]
  },
  {
   "cell_type": "markdown",
   "id": "ad027765-a62c-4ce7-86e8-c9e6d287fd48",
   "metadata": {},
   "source": [
    "# 4. Copying the cleaned data into a new DataFrame"
   ]
  },
  {
   "cell_type": "code",
   "execution_count": null,
   "id": "aac6079d-2f82-48b9-a1ec-e2e620ce0cd9",
   "metadata": {},
   "outputs": [],
   "source": [
    "zomato_df = raw_df.copy()"
   ]
  },
  {
   "cell_type": "code",
   "execution_count": null,
   "id": "737a6191-3396-4ab4-9c4b-7b589a500144",
   "metadata": {},
   "outputs": [],
   "source": [
    "zomato_df.head()"
   ]
  },
  {
   "cell_type": "markdown",
   "id": "8a873ecc-cee0-48c8-98f1-e67349e7a428",
   "metadata": {},
   "source": [
    " # 5. Performing Exploratory Data Analysis\n",
    "Q1) How many restaurants are in Mumbai for each type of cuisine?"
   ]
  },
  {
   "cell_type": "code",
   "execution_count": null,
   "id": "860a2bbd-ee75-4974-9245-c43c3dbc0262",
   "metadata": {},
   "outputs": [],
   "source": [
    "fig = px.histogram(zomato_df, x='CUSINE TYPE', color='CUSINE TYPE',\n",
    "title= 'No. of Restaurants by Cuisine Type',\n",
    "labels={'CUSINE TYPE':'Cuisine Type'})\n",
    "fig.show()"
   ]
  },
  {
   "cell_type": "code",
   "execution_count": null,
   "id": "3428edc4-dcfb-40a3-97a5-d6648a50f958",
   "metadata": {},
   "outputs": [],
   "source": [
    "raw_df.columns"
   ]
  },
  {
   "cell_type": "code",
   "execution_count": null,
   "id": "3d5b504c-6b6c-4846-a27d-c751399233d9",
   "metadata": {},
   "outputs": [],
   "source": [
    "# Q1) How many restaurants are in Chennai for each type of cuisine?"
   ]
  },
  {
   "cell_type": "code",
   "execution_count": null,
   "id": "9b560feb-d8d1-4521-88db-1fa4cb80a757",
   "metadata": {},
   "outputs": [],
   "source": [
    "fig = px.histogram(raw_df, x='Cuisine', color='Cuisine',\n",
    "title= 'No. of Restaurants by Cuisine Type',\n",
    "labels={'Cusine Type ':'Cuisine'})\n",
    "fig.show()"
   ]
  },
  {
   "cell_type": "code",
   "execution_count": null,
   "id": "70675136-d4f8-4e16-902e-5fd02226f033",
   "metadata": {},
   "outputs": [],
   "source": [
    "# Check if the 'Cuisine' column contains lists or strings of multiple cuisines per restaurant\n",
    "# If Cuisine is a list, we need to explode it to count each cuisine separately\n",
    "# Assuming 'Cuisine' column contains strings like \"['Biryani', 'North Indian']\" or just 'Biryani'\n",
    "# Step 1: Convert 'Cuisine' column to actual lists if they are stored as strings\n",
    "raw_df['Cuisine'] = raw_df['Cuisine'].apply(lambda x: x.strip(\"[]\").replace(\"'\", \"\").split(',') if isinstance(x, str) else x)\n",
    "# Step 2: Explode the 'Cuisine' column to handle multiple cuisines per restaurant\n",
    "exploded_df = raw_df.explode('Cuisine')\n",
    "# Step 3: Create the histogram to count the number of restaurants by cuisine type\n",
    "fig = px.histogram(exploded_df, x='Cuisine', color='Cuisine', \n",
    "                   title='No. of Restaurants by Cuisine Type',\n",
    "                   labels={'Cuisine': 'Cuisine Type'})  # Label the x-axis for clarity\n",
    "# Show the plot\n",
    "fig.show()"
   ]
  },
  {
   "cell_type": "code",
   "execution_count": null,
   "id": "709b757f-449a-40b6-bf66-63ca3802bbfd",
   "metadata": {},
   "outputs": [],
   "source": [
    "rating_type_df = raw_df['Rating Count'].value_counts().reset_index()"
   ]
  },
  {
   "cell_type": "code",
   "execution_count": null,
   "id": "8d695f09-94f7-436a-8ffc-5d9e7792a29f",
   "metadata": {},
   "outputs": [],
   "source": []
  }
 ],
 "metadata": {
  "kernelspec": {
   "display_name": "Python 3 (ipykernel)",
   "language": "python",
   "name": "python3"
  },
  "language_info": {
   "codemirror_mode": {
    "name": "ipython",
    "version": 3
   },
   "file_extension": ".py",
   "mimetype": "text/x-python",
   "name": "python",
   "nbconvert_exporter": "python",
   "pygments_lexer": "ipython3",
   "version": "3.10.15"
  }
 },
 "nbformat": 4,
 "nbformat_minor": 5
}
